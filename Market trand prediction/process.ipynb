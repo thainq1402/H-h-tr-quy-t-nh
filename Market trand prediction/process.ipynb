{
 "cells": [
  {
   "cell_type": "code",
   "execution_count": 1,
   "metadata": {},
   "outputs": [],
   "source": [
    "import pandas as pd \n",
    "import numpy as np"
   ]
  },
  {
   "cell_type": "code",
   "execution_count": 2,
   "metadata": {},
   "outputs": [
    {
     "data": {
      "text/html": [
       "<div>\n",
       "<style scoped>\n",
       "    .dataframe tbody tr th:only-of-type {\n",
       "        vertical-align: middle;\n",
       "    }\n",
       "\n",
       "    .dataframe tbody tr th {\n",
       "        vertical-align: top;\n",
       "    }\n",
       "\n",
       "    .dataframe thead th {\n",
       "        text-align: right;\n",
       "    }\n",
       "</style>\n",
       "<table border=\"1\" class=\"dataframe\">\n",
       "  <thead>\n",
       "    <tr style=\"text-align: right;\">\n",
       "      <th></th>\n",
       "      <th>Index</th>\n",
       "      <th>Date</th>\n",
       "      <th>CloseVni</th>\n",
       "      <th>OpenVni</th>\n",
       "      <th>CaoVni</th>\n",
       "      <th>ThấpVni</th>\n",
       "      <th>VolumnVni</th>\n",
       "      <th>Change</th>\n",
       "    </tr>\n",
       "  </thead>\n",
       "  <tbody>\n",
       "    <tr>\n",
       "      <th>0</th>\n",
       "      <td>361</td>\n",
       "      <td>3/1/2023</td>\n",
       "      <td>1,043.90</td>\n",
       "      <td>1,007.09</td>\n",
       "      <td>1,043.90</td>\n",
       "      <td>1,007.09</td>\n",
       "      <td>551.33K</td>\n",
       "      <td>3.66%</td>\n",
       "    </tr>\n",
       "    <tr>\n",
       "      <th>1</th>\n",
       "      <td>360</td>\n",
       "      <td>4/1/2023</td>\n",
       "      <td>1,046.35</td>\n",
       "      <td>1,043.90</td>\n",
       "      <td>1,052.60</td>\n",
       "      <td>1,041.56</td>\n",
       "      <td>647.73K</td>\n",
       "      <td>0.23%</td>\n",
       "    </tr>\n",
       "    <tr>\n",
       "      <th>2</th>\n",
       "      <td>359</td>\n",
       "      <td>5/1/2023</td>\n",
       "      <td>1,055.82</td>\n",
       "      <td>1,048.17</td>\n",
       "      <td>1,058.14</td>\n",
       "      <td>1,046.64</td>\n",
       "      <td>535.05K</td>\n",
       "      <td>0.91%</td>\n",
       "    </tr>\n",
       "    <tr>\n",
       "      <th>3</th>\n",
       "      <td>358</td>\n",
       "      <td>6/1/2023</td>\n",
       "      <td>1,051.44</td>\n",
       "      <td>1,055.82</td>\n",
       "      <td>1,065.58</td>\n",
       "      <td>1,047.26</td>\n",
       "      <td>698.50K</td>\n",
       "      <td>-0.41%</td>\n",
       "    </tr>\n",
       "    <tr>\n",
       "      <th>4</th>\n",
       "      <td>357</td>\n",
       "      <td>9/1/2023</td>\n",
       "      <td>1,054.21</td>\n",
       "      <td>1,058.28</td>\n",
       "      <td>1,062.12</td>\n",
       "      <td>1,050.95</td>\n",
       "      <td>475.20K</td>\n",
       "      <td>0.26%</td>\n",
       "    </tr>\n",
       "    <tr>\n",
       "      <th>5</th>\n",
       "      <td>356</td>\n",
       "      <td>10/1/2023</td>\n",
       "      <td>1,053.35</td>\n",
       "      <td>1,054.21</td>\n",
       "      <td>1,057.44</td>\n",
       "      <td>1,045.75</td>\n",
       "      <td>546.26K</td>\n",
       "      <td>-0.08%</td>\n",
       "    </tr>\n",
       "  </tbody>\n",
       "</table>\n",
       "</div>"
      ],
      "text/plain": [
       "   Index       Date  CloseVni   OpenVni    CaoVni   ThấpVni VolumnVni Change \n",
       "0    361   3/1/2023  1,043.90  1,007.09  1,043.90  1,007.09   551.33K   3.66%\n",
       "1    360   4/1/2023  1,046.35  1,043.90  1,052.60  1,041.56   647.73K   0.23%\n",
       "2    359   5/1/2023  1,055.82  1,048.17  1,058.14  1,046.64   535.05K   0.91%\n",
       "3    358   6/1/2023  1,051.44  1,055.82  1,065.58  1,047.26   698.50K  -0.41%\n",
       "4    357   9/1/2023  1,054.21  1,058.28  1,062.12  1,050.95   475.20K   0.26%\n",
       "5    356  10/1/2023  1,053.35  1,054.21  1,057.44  1,045.75   546.26K  -0.08%"
      ]
     },
     "execution_count": 2,
     "metadata": {},
     "output_type": "execute_result"
    }
   ],
   "source": [
    "vni = pd.read_csv('vn_index.csv')\n",
    "vni.head(6)"
   ]
  },
  {
   "cell_type": "code",
   "execution_count": 3,
   "metadata": {},
   "outputs": [
    {
     "data": {
      "text/plain": [
       "Index         int64\n",
       "Date         object\n",
       "CloseVni     object\n",
       "OpenVni      object\n",
       "CaoVni       object\n",
       "ThấpVni      object\n",
       "VolumnVni    object\n",
       "Change       object\n",
       "dtype: object"
      ]
     },
     "execution_count": 3,
     "metadata": {},
     "output_type": "execute_result"
    }
   ],
   "source": [
    "vni.dtypes"
   ]
  },
  {
   "cell_type": "code",
   "execution_count": 12,
   "metadata": {},
   "outputs": [
    {
     "name": "stdout",
     "output_type": "stream",
     "text": [
      "   Index        Date  CloseVni   OpenVni    CaoVni   ThấpVni VolumnVni Change \n",
      "0    361  2023-01-03  1,043.90  1,007.09  1,043.90  1,007.09   551.33K   3.66%\n",
      "1    360  2023-01-04  1,046.35  1,043.90  1,052.60  1,041.56   647.73K   0.23%\n",
      "2    359  2023-01-05  1,055.82  1,048.17  1,058.14  1,046.64   535.05K   0.91%\n",
      "3    358  2023-01-06  1,051.44  1,055.82  1,065.58  1,047.26   698.50K  -0.41%\n",
      "4    357  2023-01-09  1,054.21  1,058.28  1,062.12  1,050.95   475.20K   0.26%\n",
      "5    356  2023-01-10  1,053.35  1,054.21  1,057.44  1,045.75   546.26K  -0.08%\n"
     ]
    }
   ],
   "source": [
    "import pandas as pd\n",
    "\n",
    "# Load the data\n",
    "vni = pd.read_csv('vn_index.csv')\n",
    "\n",
    "# Convert the 'Date' column to datetime with the specified format\n",
    "vni['Date'] = pd.to_datetime(vni['Date'], format='%d/%m/%Y')\n",
    "\n",
    "# Convert the 'Date' column to string with the desired format\n",
    "vni['Date'] = vni['Date'].dt.strftime('%Y-%m-%d')\n",
    "\n",
    "# Write the DataFrame to a new CSV file\n",
    "vni.to_excel('vn_index_formatted.xlsx', index=False)\n",
    "\n",
    "# Verify the output\n",
    "print(vni.head(6))\n",
    "\n"
   ]
  },
  {
   "cell_type": "code",
   "execution_count": 10,
   "metadata": {},
   "outputs": [
    {
     "data": {
      "text/plain": [
       "Index                 int64\n",
       "Date         datetime64[ns]\n",
       "CloseVni             object\n",
       "OpenVni              object\n",
       "CaoVni               object\n",
       "ThấpVni              object\n",
       "VolumnVni            object\n",
       "Change               object\n",
       "dtype: object"
      ]
     },
     "execution_count": 10,
     "metadata": {},
     "output_type": "execute_result"
    }
   ],
   "source": [
    "vni.dtypes"
   ]
  }
 ],
 "metadata": {
  "kernelspec": {
   "display_name": "Python 3",
   "language": "python",
   "name": "python3"
  },
  "language_info": {
   "codemirror_mode": {
    "name": "ipython",
    "version": 3
   },
   "file_extension": ".py",
   "mimetype": "text/x-python",
   "name": "python",
   "nbconvert_exporter": "python",
   "pygments_lexer": "ipython3",
   "version": "3.12.0"
  }
 },
 "nbformat": 4,
 "nbformat_minor": 2
}
